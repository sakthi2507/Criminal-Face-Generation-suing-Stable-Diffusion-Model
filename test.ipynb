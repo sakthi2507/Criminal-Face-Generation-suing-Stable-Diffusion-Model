{
 "cells": [
  {
   "cell_type": "code",
   "execution_count": 1,
   "id": "c2420db3",
   "metadata": {},
   "outputs": [],
   "source": [
    "import clip\n",
    "import torch\n",
    "\n",
    "device = \"cuda\" if torch.cuda.is_available() else \"cpu\"\n",
    "clip_model, preprocess = clip.load(\"ViT-B/32\", device=device)\n"
   ]
  },
  {
   "cell_type": "code",
   "execution_count": 2,
   "id": "d24a1692",
   "metadata": {},
   "outputs": [],
   "source": [
    "text = [\"a young male suspect with a beard\"]\n",
    "text_tokens = clip.tokenize(text).to(device)\n",
    "with torch.no_grad():\n",
    "    text_embedding = clip_model.encode_text(text_tokens)  # shape: (1, 512)\n"
   ]
  },
  {
   "cell_type": "code",
   "execution_count": 3,
   "id": "dadc901d",
   "metadata": {},
   "outputs": [
    {
     "ename": "ModuleNotFoundError",
     "evalue": "No module named 'your_model'",
     "output_type": "error",
     "traceback": [
      "\u001b[31m---------------------------------------------------------------------------\u001b[39m",
      "\u001b[31mModuleNotFoundError\u001b[39m                       Traceback (most recent call last)",
      "\u001b[36mCell\u001b[39m\u001b[36m \u001b[39m\u001b[32mIn[3]\u001b[39m\u001b[32m, line 2\u001b[39m\n\u001b[32m      1\u001b[39m \u001b[38;5;28;01mfrom\u001b[39;00m\u001b[38;5;250m \u001b[39m\u001b[34;01mtorchvision\u001b[39;00m\u001b[34;01m.\u001b[39;00m\u001b[34;01mutils\u001b[39;00m\u001b[38;5;250m \u001b[39m\u001b[38;5;28;01mimport\u001b[39;00m save_image\n\u001b[32m----> \u001b[39m\u001b[32m2\u001b[39m \u001b[38;5;28;01mfrom\u001b[39;00m\u001b[38;5;250m \u001b[39m\u001b[34;01myour_model\u001b[39;00m\u001b[38;5;250m \u001b[39m\u001b[38;5;28;01mimport\u001b[39;00m ViTImageGenerator  \u001b[38;5;66;03m# replace with your class name\u001b[39;00m\n\u001b[32m      4\u001b[39m \u001b[38;5;66;03m# Load your ViT model\u001b[39;00m\n\u001b[32m      5\u001b[39m model = ViTImageGenerator().to(device)\n",
      "\u001b[31mModuleNotFoundError\u001b[39m: No module named 'your_model'"
     ]
    }
   ],
   "source": [
    "from torchvision.utils import save_image\n",
    "from your_model import ViTImageGenerator  # replace with your class name\n",
    "\n",
    "# Load your ViT model\n",
    "model = ViTImageGenerator().to(device)\n",
    "model.load_state_dict(torch.load(\"vit_prompt_suspect.pth\"))\n",
    "model.eval()\n",
    "\n",
    "# Generate image using text embedding\n",
    "with torch.no_grad():\n",
    "    generated_image = model(text_embedding)  # Ensure your model accepts this as input\n",
    "    save_image(generated_image, \"generated_suspect.png\")\n"
   ]
  },
  {
   "cell_type": "code",
   "execution_count": null,
   "id": "d27fa23d",
   "metadata": {},
   "outputs": [],
   "source": []
  }
 ],
 "metadata": {
  "kernelspec": {
   "display_name": "Python 3",
   "language": "python",
   "name": "python3"
  },
  "language_info": {
   "codemirror_mode": {
    "name": "ipython",
    "version": 3
   },
   "file_extension": ".py",
   "mimetype": "text/x-python",
   "name": "python",
   "nbconvert_exporter": "python",
   "pygments_lexer": "ipython3",
   "version": "3.11.8"
  }
 },
 "nbformat": 4,
 "nbformat_minor": 5
}
